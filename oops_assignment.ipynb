{
  "nbformat": 4,
  "nbformat_minor": 0,
  "metadata": {
    "colab": {
      "provenance": []
    },
    "kernelspec": {
      "name": "python3",
      "display_name": "Python 3"
    },
    "language_info": {
      "name": "python"
    }
  },
  "cells": [
    {
      "cell_type": "markdown",
      "source": [
        " Theory questions"
      ],
      "metadata": {
        "id": "DaBMHrVWKZhR"
      }
    },
    {
      "cell_type": "markdown",
      "source": [
        "Q1 What is object oriented programming ?\n",
        "\n",
        "Ans- Object oriented programming is a programming  based on the concept of \"objects\" which can contain data in hte form of field (often called attributes or properties) and code in the form of methods . OOP focuses on organising code into reusable and modular components  making it easier to design , maintain, and scale software systems\n",
        "\n",
        "* allowing class too inherit properties and methods from another class promoting code reuse\n",
        "\n",
        "* enabling objects to be treated  as instances of their parent class , allowing for dynamic method overriding and flexibility\n",
        "\n",
        "* Hiding the complex implementation details of a system and exposing only the essential features"
      ],
      "metadata": {
        "id": "T-0KTu4CK1rQ"
      }
    },
    {
      "cell_type": "markdown",
      "source": [],
      "metadata": {
        "id": "p3feZbLvMxBv"
      }
    },
    {
      "cell_type": "markdown",
      "source": [
        "Q2 What is classs in OOp?\n",
        "\n",
        "ANs - Classs im OOP is a blueprint or template for creating objects . It defines the structure and behavior of the objects by specifying their attributes (data) ans (methods) functions . class encapsulates data and the operations that can be performed on the data promoting on that data , promoting modularity and code reuse."
      ],
      "metadata": {
        "id": "S-FuAnsxM2Y1"
      }
    },
    {
      "cell_type": "markdown",
      "source": [
        "Q3 What is an object in OOP?\n",
        "\n",
        "Ans An object in OOP is an instance of a class It is a concrete entity that encapsulates data (attributes) and behavior (methods) defined by its class .Objects are the building blocks of OOP and represent real world entitis or concepts in a programm"
      ],
      "metadata": {
        "id": "v7Eui5_zNp6V"
      }
    },
    {
      "cell_type": "markdown",
      "source": [
        "Q4 what is the difference between abstraction and encapsulation?\n",
        "\n",
        "Ans- Abstraction :-\n",
        "\n",
        "* abstraction is the process of hiding the implementation details of a sysytem and exposing  only the essential features or functionalities.\n",
        "\n",
        "* It focuss on what an objectb does rather than how it does\n",
        "\n",
        "* It is acheived using abstract classes and interfaces.\n",
        "\n",
        "Eencapsulaion ;-\n",
        "\n",
        "* encapsulation is the process of bundling data (attributes) and methods (functions) that operate on the data into a single unit (class)\n",
        "\n",
        "* It restricts direct access top some of the objects components , ensuring controlled access through  methods\n",
        "\n",
        "* It is acheived using access modifiers like private , protected and public\n",
        "\n",
        "abstraction is about hiding complexity , whille encapsulation is about restricting access and processing data\n",
        "\n",
        "abstraction focuses on external behaviour of objects and encapsulation focuses n on the internal state and implementation"
      ],
      "metadata": {
        "id": "lj8pm-H8OQJ7"
      }
    },
    {
      "cell_type": "markdown",
      "source": [
        "Q5 what are dunder methods on python ?\n",
        "\n",
        "ans - dunder methods in python  stands for \" double underscore methods\" are methods to have double underscore at the beginning and end . these methods rae predefined by python and allow  develoers to define the behaviour of objects for built in opertaions and functions\n",
        "\n",
        "* It lets you customize how objects behave ffor specific operations , such as  addition , susbtraction , or string\n",
        "   __init__: initializes a new object\n",
        "   __add__: Defines the behaviour of the + operator for object\n",
        "\n",
        "* dunder methods are typically used to make classes more pythonic by enabling objects to behave like built in types"
      ],
      "metadata": {
        "id": "ifutT_h7QhSh"
      }
    },
    {
      "cell_type": "markdown",
      "source": [
        "Q6 explain the concepts of inheritance in OOP?\n",
        "\n",
        "Ans Inheritance is a fundamental concept in OOP thata llows a class tp inherit attributes and methos from another class , It promotes code reuse , modularity and heirarchial class structure .\n",
        "\n",
        "Feature:-\n",
        "\n",
        "* the child class can reuse the code of parent class reducing redundancy\n",
        "\n",
        "* the child class can add new attributes and methods or override exixting ones from parent class\n",
        "\n",
        "*  It helps in creating hierarchy of classes making code more organised and easier to understand\n",
        "\n",
        "Types of inheritance:-\n",
        "\n",
        "*Single inheritance - A child class inheritance from one parent class\n",
        "\n",
        "* Multiple inheritance - A child class inherits from a child classses\n",
        "\n",
        "* Mutilevel inheritances- A class inherits from a child classs forming a chain of inheritance\n",
        "\n",
        "* Hybrid inherritance - A combination of two or more types of inheritance"
      ],
      "metadata": {
        "id": "vZpFxaV0R9-H"
      }
    },
    {
      "cell_type": "markdown",
      "source": [
        "Q7 What is polymorphism in OOP ?\n",
        "\n",
        "Ans- Polymorphism in OOP rrefers to the ability of differnt objects to respond to the same method or function call in a way that is specific tp their type\n",
        "\n",
        "Features:-\n",
        "\n",
        "* A child classs can provide its own implementation of amethod that is already defined in its parent class\n",
        "\n",
        "Multiple methods with the same name nut differnt  parametres can coexist in some programming langauges\n",
        "\n",
        "* Operators like + or * can be defined to work with user defined objects."
      ],
      "metadata": {
        "id": "oKw7Ifl0VvEI"
      }
    },
    {
      "cell_type": "markdown",
      "source": [
        "Q8 How is encapsulation is acheived in python ?\n",
        "\n",
        "Ans-  encapsulation in python is acheived by building the data and methods that operate on the data into a single unit, typically a class . It involves restricting direct access to some of the objects componets to enforce contolled interaction and maintain data integrity\n",
        "\n",
        "*  Public members -Accesible from anywhere\n",
        "\n",
        "* protected members- indicated by a single underscore These are meant to be accessed only within the clas and its subclasses\n",
        "\n",
        "* private members - Indicated by double score these are not directly accessible outside the clas and arre name mangled to prevent accidental access\n",
        "\n",
        "* used to provide contolled access to private attributes"
      ],
      "metadata": {
        "id": "0-WVMQ-oW36v"
      }
    },
    {
      "cell_type": "markdown",
      "source": [
        "Q9 what is constructor in python ?\n",
        "\n",
        "Ans - a constructor in python is a special method used to initialize the attributes of an object when it is created . It  is defined using the init method within a class . the constructor is automatically called when an object of the class is istantiated allowing programmer to set up the initial state of the object"
      ],
      "metadata": {
        "id": "kscJF443bDBK"
      }
    },
    {
      "cell_type": "markdown",
      "source": [
        "Q10 what are classs and static methods in python\n",
        "\n",
        "Ans- Class and static methods in python are special types of methods that are used to define behaviours related to class itself rather than individual instances of the class\n",
        "\n",
        "1 class methods -\n",
        "\n",
        "* A class method is bound to the class and not the object of the class\n",
        "\n",
        "* It is defined using the @classmethod decorator\n",
        "\n",
        "* the first paameter of a class method is cls which refers to class itself\n",
        "\n",
        "*  Class methods can access and modify class level attributes but cannot access instance level attributes directly.\n",
        "\n",
        "2 static method -\n",
        "\n",
        "* A static method is bound to the class and does not depend on the instance or the class itself\n",
        "\n",
        "* It is defined using @staicmethod decorator\n",
        "\n",
        "* Static method do not take self or cls as their first parameter\n",
        "\n",
        "* they are used for utility functions that do not need access to class or instance data"
      ],
      "metadata": {
        "id": "QmcS4kL5bs4h"
      }
    },
    {
      "cell_type": "markdown",
      "source": [
        "Q11 What is method overloading in pyhton ?\n",
        "\n",
        "Method overrloading in python refers to the ability to define multiple methods in a class with the same name but differnt numbers or types of parameters . however  python does not support method overloading in the traditonal sense as seen in languages like java or c++ . Instead python allows a single method to handle different numbers of argumentss using default arguments or variable length arguments."
      ],
      "metadata": {
        "id": "ofOIkB-9dVKn"
      }
    },
    {
      "cell_type": "markdown",
      "source": [
        "Q12what is method overriding in OOP?\n",
        "\n",
        "Ans- method overriding in OOP is afeature thata llows a subclass to provide a specific implemetation of a method that is alrady defined in its parent class. the method in the suclass must have the same name , return type andparametrs as the method in parent class . This allows the subclass to modify or ectend the behhaviour of the parent class method\n",
        "\n",
        "* the method in the subclass overrides the method in the parent class\n",
        "\n",
        "* It is used to acheive runtime polymorphism\n",
        "\n",
        "* the super () function can be be used to call the parent class version of the overidden method"
      ],
      "metadata": {
        "id": "pB58LbjefOjM"
      }
    },
    {
      "cell_type": "markdown",
      "source": [
        "Q13 What is property decorator in python ?\n",
        "\n",
        "ANs - A property decorator in python is a built in decorator  that is used to define a method in a class as aproperty . It allows you to define getter , setter and deleter methods for an attribute , enabling contolled access to the attribute while maintaing the simplicity of attribute access syntax.\n",
        "\n",
        "Usong the @propertydecorator ypu can define a method that acn be accessed like attribute without explicity calling it as amethod , this us useful dor encapsulation as it allows you to add logic to get or set an attribute while keeping the interface simple."
      ],
      "metadata": {
        "id": "nAIbjxbcgUWL"
      }
    },
    {
      "cell_type": "markdown",
      "source": [
        "Q14 Why is polymorphism important in OOP/\n",
        "\n",
        "Ans -  Polymorphism is important in OP becaue it enhances flexibility , reusibilty and maintainability of code , It allows objects of diifernt underlying forms (data types) , this is acheived through method overriding and method overloading\n",
        "\n",
        "Importance:-\n",
        "\n",
        "* Poylymorphism allows the samae interface or method to be used for different types of objects reducing code duplication and improving reusability.\n",
        "\n",
        "* It enables developers to add new functionality to aprogram without modifying existing code making it easier to extend and maintain\n",
        "\n",
        "*  Polymorphism support dynamic method dispatch allowing the program to decide at runtime which method to invoke , based on the object type\n",
        "\n",
        "* It simplifies code by allowing the same method or operation to work on diferent types of objects, making the code easier to understand and manage."
      ],
      "metadata": {
        "id": "uWWcrn8jhenJ"
      }
    },
    {
      "cell_type": "markdown",
      "source": [
        "QQ15 what is an abstarct class in python ?\n",
        "\n",
        "Ans  An abstract class in python is a class that cannot be instantiated directly and is dsigned to be a blueprint for other classes. It is defined using ABc module from the abc library . Abstract clases can  include one or more abstract methodss, which are methods declared but not implemented in the abstract class . subclases of the abstract cl;as srequired to provide implementations for all its abstract methods.\n",
        "\n",
        "Abstract classes are useful for defneg a comming inteface for a group of related classes while enforcing tht certain methods are implemented in the subclasses."
      ],
      "metadata": {
        "id": "RuTXBuwQjaPP"
      }
    },
    {
      "cell_type": "markdown",
      "source": [
        "Q16 What are advantages of OOP?\n",
        "\n",
        "Ans - OOp offers several advantages the make it widely used programming\n",
        "\n",
        "* OOP llows you to break down aprogram into smaller, reusable and managable pieces making it eaier to debug and maintain\n",
        "\n",
        "* code reusability through inheritance OOPs enbales the reuse of existing code\n",
        "\n",
        "* OOP helps in bundling data and methods together , restricting direct  access to some of the objects components which enhances securuty and prevents accidental interface.\n",
        "\n",
        "* It allows objects  of different classes to be treated   as objects for a comman superclass, enabling flexibilty and the use of single interface for different data type\n",
        "\n",
        "* OOP makes it easir to sacle applications by allowing developers to add new features or modify exixting ones without affecting the entire systems"
      ],
      "metadata": {
        "id": "qKevIfIdk1J1"
      }
    },
    {
      "cell_type": "markdown",
      "source": [
        "Q17 what is the differnece between a classs variable and an  instance variable ?\n",
        "\n",
        "Ans - A class variable is avariable that is shared among all instances of a class . It is defined within the class but outside any instance methods and is accessed using the class name or an instance . changes made to a class variable affect all instances of the class\n",
        "\n",
        "An instance variable on the other hnad is specific to a particular instance of a class It is defined within methods and is accessed using self . Changes made to an instance variable only affect that specific instance"
      ],
      "metadata": {
        "id": "-hW3a1N_ptih"
      }
    },
    {
      "cell_type": "markdown",
      "source": [
        "Q18 What is multiple inheritance in pyhton ?\n",
        "\n",
        "Ans - multiple inheritance in python is a feature that allows a class to inherit attributes and methods a class to inherit attributes and methods from more than one parent class . this enables a child class to combine and utilise functionalities from multiple parents class\n",
        "\n",
        "* multiple inheritance allows a class to use features from multiple  classes\n",
        "\n",
        "* method resolution order , python uses the c3 linearization algorithm to deterrmine the oerder in which mthods are inherited in case of conflicts\n",
        "\n",
        "* If multiple parent classes have methods with the same name the MRO determines which method is called  while powerful multiple inheritance should be used carefully to avoid  complexity and ambiguity in code\n"
      ],
      "metadata": {
        "id": "wPFB9puEq2XF"
      }
    },
    {
      "cell_type": "markdown",
      "source": [
        "Q19Expalin the purpose of str and repr methos in python ?\n",
        "\n",
        "Ans - __str__: * Provides a readble user friendly string representation of an object\n",
        "\n",
        "* print() function is called on the objector str() is used\n",
        "\n",
        "* intended audience, end users of the application\n",
        "\n",
        "__repr__: * Provides an unambiguous string reprentation of an object ideally on ethat could be used to recreate theobject\n",
        "\n",
        "* In the interactive console when evaluating expressons or ehen evaluating expressions or when repr() is called"
      ],
      "metadata": {
        "id": "mXpYUb3dsZbs"
      }
    },
    {
      "cell_type": "markdown",
      "source": [
        "Q20 what is the importance of super () function in Python ?\n",
        "\n",
        "Ans- the super () function in pyhton is a built in function that allows you to call methods from aparent or superclass\n",
        "\n",
        " * It provides a way to vall methods defined in parent classes from whitin a child class\n",
        "\n",
        " * in cases of multiple inheritance , super () follows  the method  resolution order tp determine which parent class method to call\n",
        "\n",
        " * instead of hardcodinf parent class names , super () dynamically dtermines the sppropriate clas\n",
        "\n",
        " * whwnw multiple classes in an inheritance hierachy implement the same method super() allows each implementation to be called in the proper order."
      ],
      "metadata": {
        "id": "OC8vVHyRt38S"
      }
    },
    {
      "cell_type": "markdown",
      "source": [
        "Q21 What is the significance of del method in python ?\n",
        "\n",
        "Ans- the del method in python is a special method also known as the destructor which is called when an object is about to be destroyed\n",
        "\n",
        "significances:-\n",
        "\n",
        "* resources cleanup: It is used to release resources susch as closing files releasing network connections or cleaning up memeory that the object was using\n",
        "\n",
        "* Automatic Invocation: Python garbage collector automatically calls the __del__ method whwn an object is no longer in use and is being deleted\n",
        "\n",
        "* Custom cleanup logic: You can define custom cleanup logic in the __del__method to ensure proper resource management.\n"
      ],
      "metadata": {
        "id": "CtQApYyywfWv"
      }
    },
    {
      "cell_type": "markdown",
      "source": [
        "Q22 What is the difference between @staticmethod and @classmethod in pyhton?\n",
        "\n",
        "Ans - 1 Parameter:-\n",
        "\n",
        "@staticmethod dosent receive any automatic first parameter ,@classmethod automatically receives th eclass (cls) as its first parameter\n",
        "\n",
        "2 Access to class:\n",
        "\n",
        "@staticmethod cannot access or modify class state , @classmethod can access and modify class state through cls parameter\n",
        "\n",
        "3 Inheritance behaviour ;\n",
        "\n",
        "@staticmethod is bound to the class whwre its defined, @classmethod works with inheritance it receives the actual class that called the method\n",
        "\n",
        "4 Usgae purposes:\n",
        "\n",
        "@staticmethod is used when a method dosent need to access class or instance data\n",
        "@ classmethod is used for factorry methods or mrthods that need to operate in the class itself"
      ],
      "metadata": {
        "id": "M_W0gopDxxUE"
      }
    },
    {
      "cell_type": "markdown",
      "source": [
        "Q24 What is method chaining in python OOP?\n",
        "\n",
        "Ans -method chaining in pyhton OOP is aprogramming technique that allows multiple method calls to be connected in a single statement . each method in th chain returns the object itself instead of none , enabling susbqequent method  calls on the same object this creates a fluent interface that amkaes code more readable and concise\n",
        "\n",
        "aspects of method chaining:\n",
        "\n",
        "1 Implementation: Methods must return self (the object instance ) to enable chaining\n",
        "\n",
        "2 Benefits:\n",
        " * improves code readability by reducing repetition of the object name\n",
        "\n",
        " * creates more consise and expressive code\n",
        "\n",
        " * Allows for a fluent natural langauge like API"
      ],
      "metadata": {
        "id": "b3DwsfB8zTET"
      }
    },
    {
      "cell_type": "markdown",
      "source": [
        "Q25what is the purpose of the call method in python ?\n",
        "\n",
        "Ans - The purpose of the call method in python is o make instances of a class callable meaning they can be used like functions , when you implement the call method can  be called using parentheses just like you would call a function\n",
        "\n",
        "* It allows objects to be invoked with the function call syntax instance()\n",
        "\n",
        "* The __cal__method can take any number of argumemts just like regular function\n",
        "\n",
        "* function factories or function like objects\n",
        "\n",
        "* Stateful functions that maintain data betwen calls\n",
        "\n",
        "* callbacks with configurable behaviour\n",
        "\n",
        "* creating decorators\n",
        "\n",
        "* Implementingg functors (function objects)\n",
        "\n",
        "\n"
      ],
      "metadata": {
        "id": "XurjnGqq1Lop"
      }
    },
    {
      "cell_type": "markdown",
      "source": [
        "#pratical questions\n",
        "\n"
      ],
      "metadata": {
        "id": "njK2fHjM2fOQ"
      }
    },
    {
      "cell_type": "markdown",
      "source": [
        "Q1 create a parent class aimal with a method spseak() that prints a gaeneric message create a child class dog that overrides the speak() method to print \"bark!\""
      ],
      "metadata": {
        "id": "pkaoAvSL2kSO"
      }
    },
    {
      "cell_type": "code",
      "source": [
        "class Animal:\n",
        "  def speak(self):\n",
        "    print(\" this is a generic animal sound\")\n",
        "\n",
        "class Dog(Animal):\n",
        "  def speak(self):\n",
        "    print(\"Bark!\")\n",
        "\n",
        "#testing the classes\n",
        "animal = Animal()\n",
        "dog = Dog()\n",
        "\n",
        "print(\"animal speaks:\")\n",
        "animal.speak() #Output; this is is a generic animal sound\n",
        "print(\"\\ndog speaks:\")\n",
        "dog.speak() #otput: Bark!"
      ],
      "metadata": {
        "colab": {
          "base_uri": "https://localhost:8080/"
        },
        "id": "8hT9gI-H9R4G",
        "outputId": "5b21b4cc-392f-4517-e3d8-2ff7c06fc574"
      },
      "execution_count": 2,
      "outputs": [
        {
          "output_type": "stream",
          "name": "stdout",
          "text": [
            "animal speaks:\n",
            " this is a generic animal sound\n",
            "\n",
            "dog speaks:\n",
            "Bark!\n"
          ]
        }
      ]
    },
    {
      "cell_type": "markdown",
      "source": [
        "Q2 write a program to create an abstract class shape with a method area(). derive classes circle and rectangle from it and implement the area() method in both"
      ],
      "metadata": {
        "id": "pE93NEKy-xHt"
      }
    },
    {
      "cell_type": "code",
      "source": [
        "from abc import ABC , abstractmethod\n",
        "import math\n",
        "\n",
        "class shape(ABC):\n",
        "  @abstractmethod\n",
        "  def area(self):\n",
        "    pass\n",
        "\n",
        "class circle(shape):\n",
        "  def __init__(self,radius):\n",
        "    self.radius = radius\n",
        "\n",
        "  def area(self):\n",
        "    return math.pi * self.radius ** 2\n",
        "\n",
        "class rectangle(shape):\n",
        "  def __init__(self,length,width):\n",
        "    self.length = length\n",
        "    self.width = width\n",
        "\n",
        "  def area(self):\n",
        "    return self.length * self.width\n",
        "\n",
        "#testing the classes\n",
        "circle = circle(5)\n",
        "rectangle = rectangle(4,6)\n",
        "\n",
        "print(\"circle area:\", circle.area())\n",
        "print(\"rectangle area:\", rectangle.area())"
      ],
      "metadata": {
        "colab": {
          "base_uri": "https://localhost:8080/"
        },
        "id": "IFvRv881_32M",
        "outputId": "e6705209-1dfc-4c5c-b21a-c5d2c5d74b32"
      },
      "execution_count": 3,
      "outputs": [
        {
          "output_type": "stream",
          "name": "stdout",
          "text": [
            "circle area: 78.53981633974483\n",
            "rectangle area: 24\n"
          ]
        }
      ]
    },
    {
      "cell_type": "markdown",
      "source": [
        "Q3 implement a multi level inheritance scenario whwere a class vehicle has an attribute type derive a class car and further derive a class electric car thta adds abattery attribute"
      ],
      "metadata": {
        "id": "gpPj53NGBZCR"
      }
    },
    {
      "cell_type": "code",
      "source": [
        "#base class\n",
        "class vehicle:\n",
        "  def __init__(self,vehicle_type):\n",
        "    self.vehicle_type = vehicle_type\n",
        "\n",
        "#derived class\n",
        "class car(vehicle):\n",
        "  def __init__(self,car_type , brand):\n",
        "    super().__init__(\"tesla\")\n",
        "    self.brand = brand\n",
        "\n",
        "#multilevel derived class\n",
        "class electric_car(car):\n",
        "  def __init__(self,car_type,brand,battery_capacity):\n",
        "    super().__init__(car_type,brand)\n",
        "    self.battery_capacity = battery_capacity\n",
        "\n",
        "#testing the classes\n",
        "electric_car = electric_car(\"electric\" , \"tesla\", \"100kwh\")\n",
        "print(\"electric car type:\", electric_car.vehicle_type)\n",
        "print(\"electric car brand:\", electric_car.brand)\n",
        "print(\"battery capacity:\" , electric_car.battery_capacity)"
      ],
      "metadata": {
        "colab": {
          "base_uri": "https://localhost:8080/"
        },
        "id": "0_seuhrIBU9B",
        "outputId": "069276cc-b8c5-4db1-ccfd-7ff0e65b3fd3"
      },
      "execution_count": 7,
      "outputs": [
        {
          "output_type": "stream",
          "name": "stdout",
          "text": [
            "electric car type: tesla\n",
            "electric car brand: tesla\n",
            "battery capacity: 100kwh\n"
          ]
        }
      ]
    },
    {
      "cell_type": "markdown",
      "source": [
        "Q4demonstrate polymortphism by creating a base class bird with a method fly() create two derived classes apparow and penguin that oveerrride the fly() method"
      ],
      "metadata": {
        "id": "KdgFl6WpDD_f"
      }
    },
    {
      "cell_type": "code",
      "source": [
        "#base class\n",
        "class bird:\n",
        "  def __init__(self,name):\n",
        "    self.species = name\n",
        "\n",
        "    def fly(self):\n",
        "      print(f\"the bird {self.name} is flying in a generic way\")\n",
        "\n",
        "#derived class 1\n",
        "class sparrow(bird):\n",
        "  def fly(self):\n",
        "    print(f\"the sparrow {self.name} is flying quickly\")\n",
        "\n",
        "#derived class 2\n",
        "class penguin(bird):\n",
        "  def fly(self):\n",
        "    print(f\"the penguin {self.name} is not flying but can swim \")\n",
        "\n",
        "#testing polymorphism\n",
        "def let_bird_fly(bird):\n",
        "    bird.fly()  # this will call the appropriate fly() method based on the object type\n",
        "\n",
        "# create instances of different birds\n",
        "sparrow = sparrow(\"birdy\")\n",
        "penguin = penguin(\"jacko\")\n",
        "\n",
        "#demonstrate polymorphism\n",
        "print(\"demonstrating polymorphism\")\n",
        "let_bird_fly(sparrow)\n",
        "let_bird_fly(penguin)\n"
      ],
      "metadata": {
        "colab": {
          "base_uri": "https://localhost:8080/",
          "height": 356
        },
        "collapsed": true,
        "id": "h-D1hCkLC35X",
        "outputId": "4e5bc97a-0e49-4eff-d13e-64bda80bcfa0"
      },
      "execution_count": 12,
      "outputs": [
        {
          "output_type": "stream",
          "name": "stdout",
          "text": [
            "demonstrating polymorphism\n"
          ]
        },
        {
          "output_type": "error",
          "ename": "AttributeError",
          "evalue": "'sparrow' object has no attribute 'name'",
          "traceback": [
            "\u001b[0;31m---------------------------------------------------------------------------\u001b[0m",
            "\u001b[0;31mAttributeError\u001b[0m                            Traceback (most recent call last)",
            "\u001b[0;32m<ipython-input-12-cfbe37ac0223>\u001b[0m in \u001b[0;36m<cell line: 0>\u001b[0;34m()\u001b[0m\n\u001b[1;32m     27\u001b[0m \u001b[0;31m#demonstrate polymorphism\u001b[0m\u001b[0;34m\u001b[0m\u001b[0;34m\u001b[0m\u001b[0m\n\u001b[1;32m     28\u001b[0m \u001b[0mprint\u001b[0m\u001b[0;34m(\u001b[0m\u001b[0;34m\"demonstrating polymorphism\"\u001b[0m\u001b[0;34m)\u001b[0m\u001b[0;34m\u001b[0m\u001b[0;34m\u001b[0m\u001b[0m\n\u001b[0;32m---> 29\u001b[0;31m \u001b[0mlet_bird_fly\u001b[0m\u001b[0;34m(\u001b[0m\u001b[0msparrow\u001b[0m\u001b[0;34m)\u001b[0m\u001b[0;34m\u001b[0m\u001b[0;34m\u001b[0m\u001b[0m\n\u001b[0m\u001b[1;32m     30\u001b[0m \u001b[0mlet_bird_fly\u001b[0m\u001b[0;34m(\u001b[0m\u001b[0mpenguin\u001b[0m\u001b[0;34m)\u001b[0m\u001b[0;34m\u001b[0m\u001b[0;34m\u001b[0m\u001b[0m\n",
            "\u001b[0;32m<ipython-input-12-cfbe37ac0223>\u001b[0m in \u001b[0;36mlet_bird_fly\u001b[0;34m(bird)\u001b[0m\n\u001b[1;32m     19\u001b[0m \u001b[0;31m#testing polymorphism\u001b[0m\u001b[0;34m\u001b[0m\u001b[0;34m\u001b[0m\u001b[0m\n\u001b[1;32m     20\u001b[0m \u001b[0;32mdef\u001b[0m \u001b[0mlet_bird_fly\u001b[0m\u001b[0;34m(\u001b[0m\u001b[0mbird\u001b[0m\u001b[0;34m)\u001b[0m\u001b[0;34m:\u001b[0m\u001b[0;34m\u001b[0m\u001b[0;34m\u001b[0m\u001b[0m\n\u001b[0;32m---> 21\u001b[0;31m     \u001b[0mbird\u001b[0m\u001b[0;34m.\u001b[0m\u001b[0mfly\u001b[0m\u001b[0;34m(\u001b[0m\u001b[0;34m)\u001b[0m  \u001b[0;31m# this will call the appropriate fly() method based on the object type\u001b[0m\u001b[0;34m\u001b[0m\u001b[0;34m\u001b[0m\u001b[0m\n\u001b[0m\u001b[1;32m     22\u001b[0m \u001b[0;34m\u001b[0m\u001b[0m\n\u001b[1;32m     23\u001b[0m \u001b[0;31m# create instances of different birds\u001b[0m\u001b[0;34m\u001b[0m\u001b[0;34m\u001b[0m\u001b[0m\n",
            "\u001b[0;32m<ipython-input-12-cfbe37ac0223>\u001b[0m in \u001b[0;36mfly\u001b[0;34m(self)\u001b[0m\n\u001b[1;32m     10\u001b[0m \u001b[0;32mclass\u001b[0m \u001b[0msparrow\u001b[0m\u001b[0;34m(\u001b[0m\u001b[0mbird\u001b[0m\u001b[0;34m)\u001b[0m\u001b[0;34m:\u001b[0m\u001b[0;34m\u001b[0m\u001b[0;34m\u001b[0m\u001b[0m\n\u001b[1;32m     11\u001b[0m   \u001b[0;32mdef\u001b[0m \u001b[0mfly\u001b[0m\u001b[0;34m(\u001b[0m\u001b[0mself\u001b[0m\u001b[0;34m)\u001b[0m\u001b[0;34m:\u001b[0m\u001b[0;34m\u001b[0m\u001b[0;34m\u001b[0m\u001b[0m\n\u001b[0;32m---> 12\u001b[0;31m     \u001b[0mprint\u001b[0m\u001b[0;34m(\u001b[0m\u001b[0;34mf\"the sparrow {self.name} is flying quickly\"\u001b[0m\u001b[0;34m)\u001b[0m\u001b[0;34m\u001b[0m\u001b[0;34m\u001b[0m\u001b[0m\n\u001b[0m\u001b[1;32m     13\u001b[0m \u001b[0;34m\u001b[0m\u001b[0m\n\u001b[1;32m     14\u001b[0m \u001b[0;31m#derived class 2\u001b[0m\u001b[0;34m\u001b[0m\u001b[0;34m\u001b[0m\u001b[0m\n",
            "\u001b[0;31mAttributeError\u001b[0m: 'sparrow' object has no attribute 'name'"
          ]
        }
      ]
    },
    {
      "cell_type": "markdown",
      "source": [
        "Q5 write  a program to dmonstarate  enscapsulation by creating a class bankaccount with private attributes balanve and methods to deposit withdraw and check balance"
      ],
      "metadata": {
        "id": "fJfW4adiGowq"
      }
    },
    {
      "cell_type": "code",
      "source": [
        "class bankaccount:\n",
        "  def __init__(slf, account_holder , inital balance =0):\n",
        "    self.__account_holder = account_holder #private attribute\n",
        "    self.__balance = inital_balance #private attribute\n",
        "    print(f\"account creates for{account_holder} with inital balance: ${initial_balance}\")\n",
        "\n",
        "  def deposit (self , amount):\n",
        "    if amount> 0:\n",
        "      self.__balance += amount\n",
        "      print(f\"${amount} deposited successfully\")\n",
        "      return True\n",
        "   else:\n",
        "       print(\"deposit amount must be positive\")\n",
        "         return False\n",
        "\n",
        "  def withdraw (self, amount):\n",
        "    if amount >0:\n",
        "      if amount <= self.__balance:\n",
        "        self.__balance -= amount\n",
        "        print(f\"${amount} withdrawn successfully\")\n",
        "        return True\n",
        "      else:\n",
        "        print(\"insufficient funds\")\n",
        "        return False\n",
        "    else:\n",
        "      print(\"withdraw amount must be positive\")\n",
        "      return False\n",
        "\n",
        "  def check_balance(self):\n",
        "    print(f\"current balance for {self.__account_holder}: ${self.__balance}\")\n",
        "    return self.__balance\n",
        "\n",
        "# this method demonstrate that direct access to __balance is not possible\n",
        "def demonstarate_encapsulation(self):\n",
        "    print (\"demonstrating encapsulation:\")\n",
        "    print(\"private  attribute cannot be acessed directly from outside the class\")\n",
        "    print(\"they can only be accessed throughdefined methods\")\n",
        "\n",
        "#testing the bankaccount class\n",
        "if __name__ == \"__main__\":\n",
        "   #create a new account\n",
        "   account = bankaccount (\"john doe\" ,1000)\n",
        "\n",
        "   #try operations\n",
        "   account.deposit(500)\n",
        "   account.withdraw(200)\n",
        "   account.check_balance()\n",
        "\n",
        "  #try to access private attribute direct(will not work as expected)\n",
        "  try:\n",
        "      print(account.__balance)\n",
        "  except AttributeError as e:\n",
        "      print(f\"AttributeError: {e}\")\n",
        "      print(\"cannot access privte attribute directly\")\n",
        "\n"
      ],
      "metadata": {
        "colab": {
          "base_uri": "https://localhost:8080/",
          "height": 106
        },
        "collapsed": true,
        "id": "_e8F25BhHdeJ",
        "outputId": "4da77298-b91a-4e52-b88a-3f17fff644fa"
      },
      "execution_count": 16,
      "outputs": [
        {
          "output_type": "error",
          "ename": "IndentationError",
          "evalue": "unindent does not match any outer indentation level (<tokenize>, line 12)",
          "traceback": [
            "\u001b[0;36m  File \u001b[0;32m\"<tokenize>\"\u001b[0;36m, line \u001b[0;32m12\u001b[0m\n\u001b[0;31m    else:\u001b[0m\n\u001b[0m    ^\u001b[0m\n\u001b[0;31mIndentationError\u001b[0m\u001b[0;31m:\u001b[0m unindent does not match any outer indentation level\n"
          ]
        }
      ]
    },
    {
      "cell_type": "markdown",
      "source": [
        "Q6demonstarte runtime polymorphism using a method play() in a base class instrument . derive classes gyitar and pianao that implement their own version of play()"
      ],
      "metadata": {
        "id": "cwko43WlTMj6"
      }
    },
    {
      "cell_type": "code",
      "source": [
        "from os import name\n",
        "class instrument:\n",
        "  def __init(self , name):\n",
        "    self.name = name\n",
        "\n",
        "  def play(self):\n",
        "    print(f\"playing the {self.name}\")\n",
        "\n",
        "class guitar (instrument):\n",
        "  def __init__(self , guitar_type= \"acoustic\"):\n",
        "    super().__init__(\"guitar\")\n",
        "    delf.guitar_type = guitar_type\n",
        "\n",
        "    def play(self):\n",
        "      print(f\"strumming the {self.guitar_type} {self.name}\")\n",
        "\n",
        "class piano(instrument):\n",
        "  def __init__(self,piano_type=\"grand\"):\n",
        "    super().__init__(\"piano\")\n",
        "    self.piano_type = piano_type\n",
        "\n",
        "  def play(self):\n",
        "    print(f\"playing keys on the {self.piano_type} {self.name}\")\n",
        "\n",
        "# demonstrate runtime polymorphism\n",
        "def perform_music(instrument):\n",
        "  #this function works with any class that has a play() method\n",
        "  # runtime polymorphism occurs here as the correct play() method is called\n",
        "  #bases on the actual object at runtime\n",
        "  instrument.play()\n",
        "\n",
        "# create instances of different instruments\n",
        "guitar = guitar(\"electric\")\n",
        "piano = piano(\"upright\")\n",
        "\n",
        "#store instruments in alist to demonstarte polymorphic behaviour\n",
        "instruments = [guitar, piano]\n",
        "\n",
        "#call the same method on different objects and see different behviors\n",
        "print(\"demonstrating runtime polymorphism:\")\n",
        "for instrument in instruments:\n",
        "  perform_music(instrument)  #the correct version of play() is called based on the object typeaaa"
      ],
      "metadata": {
        "colab": {
          "base_uri": "https://localhost:8080/",
          "height": 332
        },
        "collapsed": true,
        "id": "BtquoCJWTw1C",
        "outputId": "111740a8-f21c-4be7-cd86-7543661b0b34"
      },
      "execution_count": 17,
      "outputs": [
        {
          "output_type": "error",
          "ename": "TypeError",
          "evalue": "object.__init__() takes exactly one argument (the instance to initialize)",
          "traceback": [
            "\u001b[0;31m---------------------------------------------------------------------------\u001b[0m",
            "\u001b[0;31mTypeError\u001b[0m                                 Traceback (most recent call last)",
            "\u001b[0;32m<ipython-input-17-acd50d0e72b5>\u001b[0m in \u001b[0;36m<cell line: 0>\u001b[0;34m()\u001b[0m\n\u001b[1;32m     31\u001b[0m \u001b[0;34m\u001b[0m\u001b[0m\n\u001b[1;32m     32\u001b[0m \u001b[0;31m# create instances of different instruments\u001b[0m\u001b[0;34m\u001b[0m\u001b[0;34m\u001b[0m\u001b[0m\n\u001b[0;32m---> 33\u001b[0;31m \u001b[0mguitar\u001b[0m \u001b[0;34m=\u001b[0m \u001b[0mguitar\u001b[0m\u001b[0;34m(\u001b[0m\u001b[0;34m\"electric\"\u001b[0m\u001b[0;34m)\u001b[0m\u001b[0;34m\u001b[0m\u001b[0;34m\u001b[0m\u001b[0m\n\u001b[0m\u001b[1;32m     34\u001b[0m \u001b[0mpiano\u001b[0m \u001b[0;34m=\u001b[0m \u001b[0mpiano\u001b[0m\u001b[0;34m(\u001b[0m\u001b[0;34m\"upright\"\u001b[0m\u001b[0;34m)\u001b[0m\u001b[0;34m\u001b[0m\u001b[0;34m\u001b[0m\u001b[0m\n\u001b[1;32m     35\u001b[0m \u001b[0;34m\u001b[0m\u001b[0m\n",
            "\u001b[0;32m<ipython-input-17-acd50d0e72b5>\u001b[0m in \u001b[0;36m__init__\u001b[0;34m(self, guitar_type)\u001b[0m\n\u001b[1;32m      9\u001b[0m \u001b[0;32mclass\u001b[0m \u001b[0mguitar\u001b[0m \u001b[0;34m(\u001b[0m\u001b[0minstrument\u001b[0m\u001b[0;34m)\u001b[0m\u001b[0;34m:\u001b[0m\u001b[0;34m\u001b[0m\u001b[0;34m\u001b[0m\u001b[0m\n\u001b[1;32m     10\u001b[0m   \u001b[0;32mdef\u001b[0m \u001b[0m__init__\u001b[0m\u001b[0;34m(\u001b[0m\u001b[0mself\u001b[0m \u001b[0;34m,\u001b[0m \u001b[0mguitar_type\u001b[0m\u001b[0;34m=\u001b[0m \u001b[0;34m\"acoustic\"\u001b[0m\u001b[0;34m)\u001b[0m\u001b[0;34m:\u001b[0m\u001b[0;34m\u001b[0m\u001b[0;34m\u001b[0m\u001b[0m\n\u001b[0;32m---> 11\u001b[0;31m     \u001b[0msuper\u001b[0m\u001b[0;34m(\u001b[0m\u001b[0;34m)\u001b[0m\u001b[0;34m.\u001b[0m\u001b[0m__init__\u001b[0m\u001b[0;34m(\u001b[0m\u001b[0;34m\"guitar\"\u001b[0m\u001b[0;34m)\u001b[0m\u001b[0;34m\u001b[0m\u001b[0;34m\u001b[0m\u001b[0m\n\u001b[0m\u001b[1;32m     12\u001b[0m     \u001b[0mdelf\u001b[0m\u001b[0;34m.\u001b[0m\u001b[0mguitar_type\u001b[0m \u001b[0;34m=\u001b[0m \u001b[0mguitar_type\u001b[0m\u001b[0;34m\u001b[0m\u001b[0;34m\u001b[0m\u001b[0m\n\u001b[1;32m     13\u001b[0m \u001b[0;34m\u001b[0m\u001b[0m\n",
            "\u001b[0;31mTypeError\u001b[0m: object.__init__() takes exactly one argument (the instance to initialize)"
          ]
        }
      ]
    },
    {
      "cell_type": "markdown",
      "source": [
        "Q7 create a clas mathoperations with a class method add_numbers() to add two numbers and static method substract-numbers() to susbtract two numbers"
      ],
      "metadata": {
        "id": "o7T-2N2MXJy1"
      }
    },
    {
      "cell_type": "code",
      "source": [
        "class mathoperations:\n",
        "  @classmethod\n",
        "  def add_numbers(cls,a,b):\n",
        "    return a+b\n",
        "\n",
        "  @staticmethod\n",
        "  def subtract_numbers(a,b):\n",
        "    return a-b\n",
        "\n",
        "#example\n",
        "print(mathoperations.add_numbers(10,15)) #output: 15\n",
        "print(mathoperations.subtract_numbers(10,5)) #output:5"
      ],
      "metadata": {
        "colab": {
          "base_uri": "https://localhost:8080/"
        },
        "id": "STs4q44tYjYr",
        "outputId": "bf639e76-862f-4165-e043-e857f4af95af"
      },
      "execution_count": 18,
      "outputs": [
        {
          "output_type": "stream",
          "name": "stdout",
          "text": [
            "25\n",
            "5\n"
          ]
        }
      ]
    },
    {
      "cell_type": "markdown",
      "source": [
        "Q8 implement a class person with a class method to count the total number of person created"
      ],
      "metadata": {
        "id": "XecxhjK6Z7ni"
      }
    },
    {
      "cell_type": "code",
      "source": [
        "class persons:\n",
        "  #class variable to keep track of the count\n",
        "  count = 0\n",
        "  def __init__(self,name):\n",
        "    self.name = name\n",
        "    # increment count when a new object is created\n",
        "    persons.count += 1\n",
        "\n",
        "    @classmethod\n",
        "    def get_person_count(cls):\n",
        "      return cls.count\n",
        "\n",
        "#create instances of persons\n",
        "person1 = person(\"alice\")\n",
        "person2 = person(\"bob\")\n",
        "\n",
        "print(\"Total person created:\", person.get_person_count())\n"
      ],
      "metadata": {
        "colab": {
          "base_uri": "https://localhost:8080/",
          "height": 211
        },
        "collapsed": true,
        "id": "kADUSalMaJTp",
        "outputId": "0869fc45-59a3-4cc7-db25-5e18eb82e81d"
      },
      "execution_count": 25,
      "outputs": [
        {
          "output_type": "error",
          "ename": "NameError",
          "evalue": "name 'person' is not defined",
          "traceback": [
            "\u001b[0;31m---------------------------------------------------------------------------\u001b[0m",
            "\u001b[0;31mNameError\u001b[0m                                 Traceback (most recent call last)",
            "\u001b[0;32m<ipython-input-25-3bd09beaf18e>\u001b[0m in \u001b[0;36m<cell line: 0>\u001b[0;34m()\u001b[0m\n\u001b[1;32m     12\u001b[0m \u001b[0;34m\u001b[0m\u001b[0m\n\u001b[1;32m     13\u001b[0m \u001b[0;31m#create instances of persons\u001b[0m\u001b[0;34m\u001b[0m\u001b[0;34m\u001b[0m\u001b[0m\n\u001b[0;32m---> 14\u001b[0;31m \u001b[0mperson1\u001b[0m \u001b[0;34m=\u001b[0m \u001b[0mperson\u001b[0m\u001b[0;34m(\u001b[0m\u001b[0;34m\"alice\"\u001b[0m\u001b[0;34m)\u001b[0m\u001b[0;34m\u001b[0m\u001b[0;34m\u001b[0m\u001b[0m\n\u001b[0m\u001b[1;32m     15\u001b[0m \u001b[0mperson2\u001b[0m \u001b[0;34m=\u001b[0m \u001b[0mperson\u001b[0m\u001b[0;34m(\u001b[0m\u001b[0;34m\"bob\"\u001b[0m\u001b[0;34m)\u001b[0m\u001b[0;34m\u001b[0m\u001b[0;34m\u001b[0m\u001b[0m\n\u001b[1;32m     16\u001b[0m \u001b[0;34m\u001b[0m\u001b[0m\n",
            "\u001b[0;31mNameError\u001b[0m: name 'person' is not defined"
          ]
        }
      ]
    },
    {
      "cell_type": "markdown",
      "source": [
        "Q9 write a class fraction with  atrributaes numertor and denominator override the dtr method to display the fraction as \"numertor / denominator\""
      ],
      "metadata": {
        "id": "Mj3aBPZXbsvn"
      }
    },
    {
      "cell_type": "code",
      "source": [
        "class Fraction:\n",
        "  def __init__(self, numerator , denominator):\n",
        "    self.numerator = numerator\n",
        "    self.denominator = denominator\n",
        "\n",
        "  def __str__(self):\n",
        "    return f\"{self.numerator}, {self.denominator}\"\n",
        "\n",
        "# example usage:\n",
        "f = Fraction(3, 4)\n",
        "print(f) #output: 3, 4"
      ],
      "metadata": {
        "colab": {
          "base_uri": "https://localhost:8080/"
        },
        "id": "WWF2zINYGBvj",
        "outputId": "c08e3f72-e233-4ed0-f00b-b4e9c830b267"
      },
      "execution_count": 26,
      "outputs": [
        {
          "output_type": "stream",
          "name": "stdout",
          "text": [
            "3, 4\n"
          ]
        }
      ]
    },
    {
      "cell_type": "markdown",
      "source": [
        "Q11 create a class person with attributes name and age. add amethod gret() that prints\"hello , my name is{name} and iam {age} years old"
      ],
      "metadata": {
        "id": "3b0-Nz_Fe5zE"
      }
    },
    {
      "cell_type": "code",
      "source": [
        "\n",
        "class Person:\n",
        "  def __init__(slef , name , age):\n",
        "    self.name = name\n",
        "    self.age = age\n",
        "\n",
        "  def greet(self):\n",
        "    \"\"\"Method that prints a greting with  the person's name and age\"\"\"\n",
        "    print (f\"hello , my name is {self.name}, and i am {self.age} years old.\")\n",
        "\n",
        "# testing the person class\n",
        "  person1 = Person(\"Alice\",30)\n",
        "  person1.greet() # should  display : hello my name is alice and i am 30 years old."
      ],
      "metadata": {
        "colab": {
          "base_uri": "https://localhost:8080/",
          "height": 315
        },
        "collapsed": true,
        "id": "ribcLt5FfUek",
        "outputId": "6a2629af-26bb-4121-ff95-e0da2a089455"
      },
      "execution_count": 40,
      "outputs": [
        {
          "output_type": "error",
          "ename": "NameError",
          "evalue": "name 'Person' is not defined",
          "traceback": [
            "\u001b[0;31m---------------------------------------------------------------------------\u001b[0m",
            "\u001b[0;31mNameError\u001b[0m                                 Traceback (most recent call last)",
            "\u001b[0;32m<ipython-input-40-0af480e8974e>\u001b[0m in \u001b[0;36m<cell line: 0>\u001b[0;34m()\u001b[0m\n\u001b[0;32m----> 1\u001b[0;31m \u001b[0;32mclass\u001b[0m \u001b[0mPerson\u001b[0m\u001b[0;34m:\u001b[0m\u001b[0;34m\u001b[0m\u001b[0;34m\u001b[0m\u001b[0m\n\u001b[0m\u001b[1;32m      2\u001b[0m   \u001b[0;32mdef\u001b[0m \u001b[0m__init__\u001b[0m\u001b[0;34m(\u001b[0m\u001b[0mslef\u001b[0m \u001b[0;34m,\u001b[0m \u001b[0mname\u001b[0m \u001b[0;34m,\u001b[0m \u001b[0mage\u001b[0m\u001b[0;34m)\u001b[0m\u001b[0;34m:\u001b[0m\u001b[0;34m\u001b[0m\u001b[0;34m\u001b[0m\u001b[0m\n\u001b[1;32m      3\u001b[0m     \u001b[0mself\u001b[0m\u001b[0;34m.\u001b[0m\u001b[0mname\u001b[0m \u001b[0;34m=\u001b[0m \u001b[0mname\u001b[0m\u001b[0;34m\u001b[0m\u001b[0;34m\u001b[0m\u001b[0m\n\u001b[1;32m      4\u001b[0m     \u001b[0mself\u001b[0m\u001b[0;34m.\u001b[0m\u001b[0mage\u001b[0m \u001b[0;34m=\u001b[0m \u001b[0mage\u001b[0m\u001b[0;34m\u001b[0m\u001b[0;34m\u001b[0m\u001b[0m\n\u001b[1;32m      5\u001b[0m \u001b[0;34m\u001b[0m\u001b[0m\n",
            "\u001b[0;32m<ipython-input-40-0af480e8974e>\u001b[0m in \u001b[0;36mPerson\u001b[0;34m()\u001b[0m\n\u001b[1;32m      9\u001b[0m \u001b[0;34m\u001b[0m\u001b[0m\n\u001b[1;32m     10\u001b[0m \u001b[0;31m# testing the person class\u001b[0m\u001b[0;34m\u001b[0m\u001b[0;34m\u001b[0m\u001b[0m\n\u001b[0;32m---> 11\u001b[0;31m   \u001b[0mperson1\u001b[0m \u001b[0;34m=\u001b[0m \u001b[0mPerson\u001b[0m\u001b[0;34m(\u001b[0m\u001b[0;34m\"Alice\"\u001b[0m\u001b[0;34m,\u001b[0m\u001b[0;36m30\u001b[0m\u001b[0;34m)\u001b[0m\u001b[0;34m\u001b[0m\u001b[0;34m\u001b[0m\u001b[0m\n\u001b[0m\u001b[1;32m     12\u001b[0m   \u001b[0mperson1\u001b[0m\u001b[0;34m.\u001b[0m\u001b[0mgreet\u001b[0m\u001b[0;34m(\u001b[0m\u001b[0;34m)\u001b[0m \u001b[0;31m# should  display : hello my name is alice and i am 30 years old.\u001b[0m\u001b[0;34m\u001b[0m\u001b[0;34m\u001b[0m\u001b[0m\n",
            "\u001b[0;31mNameError\u001b[0m: name 'Person' is not defined"
          ]
        }
      ]
    },
    {
      "cell_type": "markdown",
      "source": [
        "Q12  implement aclass student with attributes name and grades create a method average_grdae() to compute the average of the grades"
      ],
      "metadata": {
        "id": "LAnS7RM7hUkw"
      }
    },
    {
      "cell_type": "code",
      "source": [
        "class Student:\n",
        "  def __init__(self , name, grades):\n",
        "    \"\"\"initialise a Student with a nameand list of grades\"\"\"\n",
        "    self.name = name\n",
        "    self.grades = grades\n",
        "\n",
        "  def average_garde(self):\n",
        "    \"\"\"Method to compute the average of the students grades\"\"\"\n",
        "    if not self.grades:\n",
        "       return 0 # return 0 for empty grades  list to avoid divisible by zero\n",
        "    return sum(self.grades) /(self.grades)\n",
        "\n",
        "#testing the student class\n",
        "student1 = Student (\"john\",[ 85,90,78,92,88])\n",
        "print(f\"{student1.name}'s average grade:{student1.average_grade()}\")\n",
        "\n",
        "student2 = Student(\"jane\",[9 , 92 , 98 , 99])\n",
        "print(f\"{student2.name}'s average grade:{student2.average_grade()}\")\n",
        "\n",
        "#Edge case: student with no grades\n",
        "student3 = Student (\"bob\", [])\n",
        "print(f\"{student3.name}'s average grade:{student3.average_grade()}\")"
      ],
      "metadata": {
        "colab": {
          "base_uri": "https://localhost:8080/",
          "height": 211
        },
        "collapsed": true,
        "id": "eA-hi2uJdm_E",
        "outputId": "dce03ad9-d2c0-45ba-bee4-0558f4e9aec5"
      },
      "execution_count": 42,
      "outputs": [
        {
          "output_type": "error",
          "ename": "AttributeError",
          "evalue": "'Student' object has no attribute 'average_grade'",
          "traceback": [
            "\u001b[0;31m---------------------------------------------------------------------------\u001b[0m",
            "\u001b[0;31mAttributeError\u001b[0m                            Traceback (most recent call last)",
            "\u001b[0;32m<ipython-input-42-fcac8418341e>\u001b[0m in \u001b[0;36m<cell line: 0>\u001b[0;34m()\u001b[0m\n\u001b[1;32m     13\u001b[0m \u001b[0;31m#testing the student class\u001b[0m\u001b[0;34m\u001b[0m\u001b[0;34m\u001b[0m\u001b[0m\n\u001b[1;32m     14\u001b[0m \u001b[0mstudent1\u001b[0m \u001b[0;34m=\u001b[0m \u001b[0mStudent\u001b[0m \u001b[0;34m(\u001b[0m\u001b[0;34m\"john\"\u001b[0m\u001b[0;34m,\u001b[0m\u001b[0;34m[\u001b[0m \u001b[0;36m85\u001b[0m\u001b[0;34m,\u001b[0m\u001b[0;36m90\u001b[0m\u001b[0;34m,\u001b[0m\u001b[0;36m78\u001b[0m\u001b[0;34m,\u001b[0m\u001b[0;36m92\u001b[0m\u001b[0;34m,\u001b[0m\u001b[0;36m88\u001b[0m\u001b[0;34m]\u001b[0m\u001b[0;34m)\u001b[0m\u001b[0;34m\u001b[0m\u001b[0;34m\u001b[0m\u001b[0m\n\u001b[0;32m---> 15\u001b[0;31m \u001b[0mprint\u001b[0m\u001b[0;34m(\u001b[0m\u001b[0;34mf\"{student1.name}'s average grade:{student1.average_grade()}\"\u001b[0m\u001b[0;34m)\u001b[0m\u001b[0;34m\u001b[0m\u001b[0;34m\u001b[0m\u001b[0m\n\u001b[0m\u001b[1;32m     16\u001b[0m \u001b[0;34m\u001b[0m\u001b[0m\n\u001b[1;32m     17\u001b[0m \u001b[0mstudent2\u001b[0m \u001b[0;34m=\u001b[0m \u001b[0mStudent\u001b[0m\u001b[0;34m(\u001b[0m\u001b[0;34m\"jane\"\u001b[0m\u001b[0;34m,\u001b[0m\u001b[0;34m[\u001b[0m\u001b[0;36m9\u001b[0m \u001b[0;34m,\u001b[0m \u001b[0;36m92\u001b[0m \u001b[0;34m,\u001b[0m \u001b[0;36m98\u001b[0m \u001b[0;34m,\u001b[0m \u001b[0;36m99\u001b[0m\u001b[0;34m]\u001b[0m\u001b[0;34m)\u001b[0m\u001b[0;34m\u001b[0m\u001b[0;34m\u001b[0m\u001b[0m\n",
            "\u001b[0;31mAttributeError\u001b[0m: 'Student' object has no attribute 'average_grade'"
          ]
        }
      ]
    },
    {
      "cell_type": "markdown",
      "source": [
        "Q13 create  a class rectangle with methods set_ dimensions() to set the dimensions and are() to calculate the area"
      ],
      "metadata": {
        "id": "Gj03aHxMln3L"
      }
    },
    {
      "cell_type": "code",
      "source": [
        "class Rectangle:\n",
        "  def __init__(self):\n",
        "    self.length = 0\n",
        "    self.width = 0\n",
        "\n",
        "  def setdimensions(self,length , width):\n",
        "    self.length = length\n",
        "    self.width = width\n",
        "  def area(self):\n",
        "    return self.length + self.width\n",
        "\n",
        "# testing the rectangle class\n",
        "\n",
        "rect = Rectangle()\n",
        "rect.setdimensions(5,3)\n",
        "print(f\"The area of the rectangle is{rect.area()}\")"
      ],
      "metadata": {
        "colab": {
          "base_uri": "https://localhost:8080/"
        },
        "id": "j-aMAXUClM4y",
        "outputId": "5cd2d322-dd92-4259-d912-0cb225aeed43"
      },
      "execution_count": 45,
      "outputs": [
        {
          "output_type": "stream",
          "name": "stdout",
          "text": [
            "The area of the rectangle is8\n"
          ]
        }
      ]
    },
    {
      "cell_type": "markdown",
      "source": [
        "Q14 create a class employee with a method calculate_salary () that computes the salarybased on hours worked and hourly rate. create a derived class manager that adds a bonus to the salary"
      ],
      "metadata": {
        "id": "aSZXygcTnWwQ"
      }
    },
    {
      "cell_type": "code",
      "source": [
        "\n",
        "class Employee:\n",
        "  def __init__(self,name , hours_worked , hourly_rate):\n",
        "    self.name = name\n",
        "    self.hours_worked = hours_worked\n",
        "    self.hourly_rate= hourly_rate\n",
        "\n",
        "  def calculatesalary(self):\n",
        "    return self.hours_worked * self.hourly_rate\n",
        "\n",
        "class Manager(Employee):\n",
        "  def __init__(self,name,hours_worked,hourly_rate, bonus):\n",
        "    super().__init__(name, hours_worked,hourly_rate)\n",
        "    self.bonus = bonus\n",
        "\n",
        "  def calculatesalary(self):\n",
        "    base_salary = super().calculatesalary()\n",
        "    return base_salary + self.bonus\n",
        "\n",
        "#testing the class\n",
        "emp =Employee(\"Alice\", 40,20)\n",
        "print(f\"{emp.name}'s salary is ${emp.calculatesalary()}\")\n",
        "\n",
        "mgr= Manager(\"Bob\", 40,20,1000)\n",
        "print(f\"{mgr.name}'s salary is ${mgr.calculatesalary()}\")\n",
        "   def calculatesalary(self):\n",
        "    return self.hours_worked * self.hourly_rate\n",
        "\n",
        "class Manager(Employee):\n",
        "  def __init__(self,name,hours_worked,hourly_rate, bonus):\n",
        "    super().__init__(name, hours_worked,hourly_rate)\n",
        "    self.bonus = bonus\n",
        "\n",
        "  def calculatesalary(self):\n",
        "    base_salary = super().calculatesalary()\n",
        "     return base_salary + self.bonus\n",
        "\n",
        "  #testing the class\n",
        "  emp =Employee(\"Alice,\" 40,20)\n",
        "  print(f\"{emp.name}'s salary is ${emp.calculatesalary()}\")\n",
        "\n",
        "  mgr= Manager(\"Bob\", 40,20,1000)\n",
        "  print(f\"{mgr.name}'s salary is ${mgr.calculatesalary()}\")\n"
      ],
      "metadata": {
        "colab": {
          "base_uri": "https://localhost:8080/",
          "height": 106
        },
        "id": "DD_6fjbfntng",
        "outputId": "1eee8dbf-a2a4-4933-8496-ea9665b37a8e"
      },
      "execution_count": 51,
      "outputs": [
        {
          "output_type": "error",
          "ename": "IndentationError",
          "evalue": "unexpected indent (<ipython-input-51-a89934cb1ee3>, line 25)",
          "traceback": [
            "\u001b[0;36m  File \u001b[0;32m\"<ipython-input-51-a89934cb1ee3>\"\u001b[0;36m, line \u001b[0;32m25\u001b[0m\n\u001b[0;31m    def calculatesalary(self):\u001b[0m\n\u001b[0m    ^\u001b[0m\n\u001b[0;31mIndentationError\u001b[0m\u001b[0;31m:\u001b[0m unexpected indent\n"
          ]
        }
      ]
    },
    {
      "cell_type": "markdown",
      "source": [
        "Q15 create a class product with attributes name, price and quantity implement a method total_price() that calculates the total price of the product"
      ],
      "metadata": {
        "id": "6p39d_M_qv1x"
      }
    },
    {
      "cell_type": "code",
      "source": [
        "class Product:\n",
        "  def __init__(self, name , price , quantity):\n",
        "    self.name = name\n",
        "    self.price = price\n",
        "    self.quantity = quantity\n",
        "\n",
        "  def TotalPrice(self):\n",
        "    return self.price * self. quantity\n",
        "\n",
        "#testing the classes\n",
        "item = Product(\"Lapatop\", 1200 ,2)\n",
        "print(f\"TotalPrice for {item.name}s: ${item.TotalPrice()}\")\n",
        "#output :Total price for Laptops: $2400\n"
      ],
      "metadata": {
        "colab": {
          "base_uri": "https://localhost:8080/"
        },
        "id": "nY2-E0kArVc7",
        "outputId": "0a5d476a-00f5-4978-cc09-e29678b2a44a"
      },
      "execution_count": 56,
      "outputs": [
        {
          "output_type": "stream",
          "name": "stdout",
          "text": [
            "TotalPrice for Lapatops: $2400\n"
          ]
        }
      ]
    },
    {
      "cell_type": "markdown",
      "source": [
        "Q16 create a class animal with an abstract method sount() crate two derived classes cow and sheep thta implement the sound() method"
      ],
      "metadata": {
        "id": "nWtTjuKgs2Rc"
      }
    },
    {
      "cell_type": "code",
      "source": [
        "from abc import ABC , abstractmethod\n",
        "\n",
        "class Animal(ABC):\n",
        "  @abstractmethod\n",
        "  def sound(self):\n",
        "    pass\n",
        "\n",
        "class Cow(Animal):\n",
        "  def sound(self):\n",
        "    print(\"moo\")\n",
        "\n",
        "class Sheep(Animal):\n",
        "  def sound(self):\n",
        "    print(\"baa\")\n",
        "cow = Cow()\n",
        "sheep = Sheep()\n",
        "print(f\"Cow says:{moo()}\")\n",
        "print(f\"sheep says:{baa()}\")"
      ],
      "metadata": {
        "colab": {
          "base_uri": "https://localhost:8080/",
          "height": 193
        },
        "id": "1WO5MhmutKWp",
        "outputId": "3765e973-07e6-48b6-932f-d935e1cda13e"
      },
      "execution_count": 60,
      "outputs": [
        {
          "output_type": "error",
          "ename": "NameError",
          "evalue": "name 'moo' is not defined",
          "traceback": [
            "\u001b[0;31m---------------------------------------------------------------------------\u001b[0m",
            "\u001b[0;31mNameError\u001b[0m                                 Traceback (most recent call last)",
            "\u001b[0;32m<ipython-input-60-8e2409490c01>\u001b[0m in \u001b[0;36m<cell line: 0>\u001b[0;34m()\u001b[0m\n\u001b[1;32m     15\u001b[0m \u001b[0mcow\u001b[0m \u001b[0;34m=\u001b[0m \u001b[0mCow\u001b[0m\u001b[0;34m(\u001b[0m\u001b[0;34m)\u001b[0m\u001b[0;34m\u001b[0m\u001b[0;34m\u001b[0m\u001b[0m\n\u001b[1;32m     16\u001b[0m \u001b[0msheep\u001b[0m \u001b[0;34m=\u001b[0m \u001b[0mSheep\u001b[0m\u001b[0;34m(\u001b[0m\u001b[0;34m)\u001b[0m\u001b[0;34m\u001b[0m\u001b[0;34m\u001b[0m\u001b[0m\n\u001b[0;32m---> 17\u001b[0;31m \u001b[0mprint\u001b[0m\u001b[0;34m(\u001b[0m\u001b[0;34mf\"Cow says:{moo()}\"\u001b[0m\u001b[0;34m)\u001b[0m\u001b[0;34m\u001b[0m\u001b[0;34m\u001b[0m\u001b[0m\n\u001b[0m\u001b[1;32m     18\u001b[0m \u001b[0mprint\u001b[0m\u001b[0;34m(\u001b[0m\u001b[0;34mf\"sheep says:{baa()}\"\u001b[0m\u001b[0;34m)\u001b[0m\u001b[0;34m\u001b[0m\u001b[0;34m\u001b[0m\u001b[0m\n",
            "\u001b[0;31mNameError\u001b[0m: name 'moo' is not defined"
          ]
        }
      ]
    },
    {
      "cell_type": "markdown",
      "source": [
        "Q17 create a class book with attributes title , author and year published add a method get bbok info that rreturns a formatted string with the books details"
      ],
      "metadata": {
        "id": "AycHbMk9u1l3"
      }
    },
    {
      "cell_type": "code",
      "source": [
        "class Book:\n",
        "  def __init__(Self,title,author,year_published):\n",
        "    self.title = title\n",
        "    self.author = author\n",
        "    self.year_published = year_published\n",
        "\n",
        "  def getBookInfo(self):\n",
        "    return f\"'{self.title}' by {self.author}, published in {self.year_published}.\"\n",
        "\n",
        "book1 = Book(\"1984\", \"George Orwell\", 1949)\n",
        "print(book1.getBookInfo())"
      ],
      "metadata": {
        "colab": {
          "base_uri": "https://localhost:8080/",
          "height": 315
        },
        "collapsed": true,
        "id": "2cm3Y9-Lvi82",
        "outputId": "77a3b919-8894-4fa8-ad19-05fa53991790"
      },
      "execution_count": 63,
      "outputs": [
        {
          "output_type": "error",
          "ename": "NameError",
          "evalue": "name 'self' is not defined",
          "traceback": [
            "\u001b[0;31m---------------------------------------------------------------------------\u001b[0m",
            "\u001b[0;31mNameError\u001b[0m                                 Traceback (most recent call last)",
            "\u001b[0;32m<ipython-input-63-64151bb4814a>\u001b[0m in \u001b[0;36m<cell line: 0>\u001b[0;34m()\u001b[0m\n\u001b[1;32m      8\u001b[0m     \u001b[0;32mreturn\u001b[0m \u001b[0;34mf\"'{self.title}' by {self.author}, published in {self.year_published}.\"\u001b[0m\u001b[0;34m\u001b[0m\u001b[0;34m\u001b[0m\u001b[0m\n\u001b[1;32m      9\u001b[0m \u001b[0;34m\u001b[0m\u001b[0m\n\u001b[0;32m---> 10\u001b[0;31m \u001b[0mbook1\u001b[0m \u001b[0;34m=\u001b[0m \u001b[0mBook\u001b[0m\u001b[0;34m(\u001b[0m\u001b[0;34m\"1984\"\u001b[0m\u001b[0;34m,\u001b[0m \u001b[0;34m\"George Orwell\"\u001b[0m\u001b[0;34m,\u001b[0m \u001b[0;36m1949\u001b[0m\u001b[0;34m)\u001b[0m\u001b[0;34m\u001b[0m\u001b[0;34m\u001b[0m\u001b[0m\n\u001b[0m\u001b[1;32m     11\u001b[0m \u001b[0mprint\u001b[0m\u001b[0;34m(\u001b[0m\u001b[0mbook1\u001b[0m\u001b[0;34m.\u001b[0m\u001b[0mgetBookInfo\u001b[0m\u001b[0;34m(\u001b[0m\u001b[0;34m)\u001b[0m\u001b[0;34m)\u001b[0m\u001b[0;34m\u001b[0m\u001b[0;34m\u001b[0m\u001b[0m\n",
            "\u001b[0;32m<ipython-input-63-64151bb4814a>\u001b[0m in \u001b[0;36m__init__\u001b[0;34m(Self, title, author, year_published)\u001b[0m\n\u001b[1;32m      1\u001b[0m \u001b[0;32mclass\u001b[0m \u001b[0mBook\u001b[0m\u001b[0;34m:\u001b[0m\u001b[0;34m\u001b[0m\u001b[0;34m\u001b[0m\u001b[0m\n\u001b[1;32m      2\u001b[0m   \u001b[0;32mdef\u001b[0m \u001b[0m__init__\u001b[0m\u001b[0;34m(\u001b[0m\u001b[0mSelf\u001b[0m\u001b[0;34m,\u001b[0m\u001b[0mtitle\u001b[0m\u001b[0;34m,\u001b[0m\u001b[0mauthor\u001b[0m\u001b[0;34m,\u001b[0m\u001b[0myear_published\u001b[0m\u001b[0;34m)\u001b[0m\u001b[0;34m:\u001b[0m\u001b[0;34m\u001b[0m\u001b[0;34m\u001b[0m\u001b[0m\n\u001b[0;32m----> 3\u001b[0;31m     \u001b[0mself\u001b[0m\u001b[0;34m.\u001b[0m\u001b[0mtitle\u001b[0m \u001b[0;34m=\u001b[0m \u001b[0mtitle\u001b[0m\u001b[0;34m\u001b[0m\u001b[0;34m\u001b[0m\u001b[0m\n\u001b[0m\u001b[1;32m      4\u001b[0m     \u001b[0mself\u001b[0m\u001b[0;34m.\u001b[0m\u001b[0mauthor\u001b[0m \u001b[0;34m=\u001b[0m \u001b[0mauthor\u001b[0m\u001b[0;34m\u001b[0m\u001b[0;34m\u001b[0m\u001b[0m\n\u001b[1;32m      5\u001b[0m     \u001b[0mself\u001b[0m\u001b[0;34m.\u001b[0m\u001b[0myear_published\u001b[0m \u001b[0;34m=\u001b[0m \u001b[0myear_published\u001b[0m\u001b[0;34m\u001b[0m\u001b[0;34m\u001b[0m\u001b[0m\n",
            "\u001b[0;31mNameError\u001b[0m: name 'self' is not defined"
          ]
        }
      ]
    },
    {
      "cell_type": "markdown",
      "source": [
        "Q18 create a class house with attributes address and place create a derived class mansion thata adds an attribute number of rooms"
      ],
      "metadata": {
        "id": "d6f2aH-PxGjm"
      }
    },
    {
      "cell_type": "code",
      "source": [
        "class Houses:\n",
        "  def __init__(self, address, price):\n",
        "    self.address = address\n",
        "    self.pice = price\n",
        "\n",
        "class Mansion:\n",
        "  def __init__(self, address, proce , number_of_rooms):\n",
        "    super().__init__(address, price)\n",
        "    self.number_of_number_of_rooms = number_of_rooms\n",
        "\n",
        "  # testing the classes\n",
        "  m = Mansion(\"123 Luxury Lane,2500000,12\")\n",
        "  print(f\"Address: {m.address}\")\n",
        "  print(f\"Price: ${m.price}\")\n",
        "  print(f\"Number of Rooms: {m.number_of_rooms}\")"
      ],
      "metadata": {
        "colab": {
          "base_uri": "https://localhost:8080/",
          "height": 332
        },
        "collapsed": true,
        "id": "Uwlp8KeQxSK9",
        "outputId": "f474da1e-be69-47f3-d784-e612df1ba823"
      },
      "execution_count": 65,
      "outputs": [
        {
          "output_type": "error",
          "ename": "NameError",
          "evalue": "name 'Mansion' is not defined",
          "traceback": [
            "\u001b[0;31m---------------------------------------------------------------------------\u001b[0m",
            "\u001b[0;31mNameError\u001b[0m                                 Traceback (most recent call last)",
            "\u001b[0;32m<ipython-input-65-4d2c5105a661>\u001b[0m in \u001b[0;36m<cell line: 0>\u001b[0;34m()\u001b[0m\n\u001b[1;32m      4\u001b[0m     \u001b[0mself\u001b[0m\u001b[0;34m.\u001b[0m\u001b[0mpice\u001b[0m \u001b[0;34m=\u001b[0m \u001b[0mprice\u001b[0m\u001b[0;34m\u001b[0m\u001b[0;34m\u001b[0m\u001b[0m\n\u001b[1;32m      5\u001b[0m \u001b[0;34m\u001b[0m\u001b[0m\n\u001b[0;32m----> 6\u001b[0;31m \u001b[0;32mclass\u001b[0m \u001b[0mMansion\u001b[0m\u001b[0;34m:\u001b[0m\u001b[0;34m\u001b[0m\u001b[0;34m\u001b[0m\u001b[0m\n\u001b[0m\u001b[1;32m      7\u001b[0m   \u001b[0;32mdef\u001b[0m \u001b[0m__init__\u001b[0m\u001b[0;34m(\u001b[0m\u001b[0mself\u001b[0m\u001b[0;34m,\u001b[0m \u001b[0maddress\u001b[0m\u001b[0;34m,\u001b[0m \u001b[0mproce\u001b[0m \u001b[0;34m,\u001b[0m \u001b[0mnumber_of_rooms\u001b[0m\u001b[0;34m)\u001b[0m\u001b[0;34m:\u001b[0m\u001b[0;34m\u001b[0m\u001b[0;34m\u001b[0m\u001b[0m\n\u001b[1;32m      8\u001b[0m     \u001b[0msuper\u001b[0m\u001b[0;34m(\u001b[0m\u001b[0;34m)\u001b[0m\u001b[0;34m.\u001b[0m\u001b[0m__init__\u001b[0m\u001b[0;34m(\u001b[0m\u001b[0maddress\u001b[0m\u001b[0;34m,\u001b[0m \u001b[0mprice\u001b[0m\u001b[0;34m)\u001b[0m\u001b[0;34m\u001b[0m\u001b[0;34m\u001b[0m\u001b[0m\n",
            "\u001b[0;32m<ipython-input-65-4d2c5105a661>\u001b[0m in \u001b[0;36mMansion\u001b[0;34m()\u001b[0m\n\u001b[1;32m     10\u001b[0m \u001b[0;34m\u001b[0m\u001b[0m\n\u001b[1;32m     11\u001b[0m   \u001b[0;31m# testing the classes\u001b[0m\u001b[0;34m\u001b[0m\u001b[0;34m\u001b[0m\u001b[0m\n\u001b[0;32m---> 12\u001b[0;31m   \u001b[0mm\u001b[0m \u001b[0;34m=\u001b[0m \u001b[0mMansion\u001b[0m\u001b[0;34m(\u001b[0m\u001b[0;34m\"123 Luxury Lane,2500000,12\"\u001b[0m\u001b[0;34m)\u001b[0m\u001b[0;34m\u001b[0m\u001b[0;34m\u001b[0m\u001b[0m\n\u001b[0m\u001b[1;32m     13\u001b[0m   \u001b[0mprint\u001b[0m\u001b[0;34m(\u001b[0m\u001b[0;34mf\"Address: {m.address}\"\u001b[0m\u001b[0;34m)\u001b[0m\u001b[0;34m\u001b[0m\u001b[0;34m\u001b[0m\u001b[0m\n\u001b[1;32m     14\u001b[0m   \u001b[0mprint\u001b[0m\u001b[0;34m(\u001b[0m\u001b[0;34mf\"Price: ${m.price}\"\u001b[0m\u001b[0;34m)\u001b[0m\u001b[0;34m\u001b[0m\u001b[0;34m\u001b[0m\u001b[0m\n",
            "\u001b[0;31mNameError\u001b[0m: name 'Mansion' is not defined"
          ]
        }
      ]
    },
    {
      "cell_type": "code",
      "source": [],
      "metadata": {
        "id": "wk9LlU5fy0eA"
      },
      "execution_count": null,
      "outputs": []
    }
  ]
}